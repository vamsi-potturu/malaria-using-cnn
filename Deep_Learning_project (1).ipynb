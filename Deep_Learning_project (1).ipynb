{
  "nbformat": 4,
  "nbformat_minor": 0,
  "metadata": {
    "colab": {
      "provenance": [],
      "gpuType": "T4"
    },
    "kernelspec": {
      "name": "python3",
      "display_name": "Python 3"
    },
    "language_info": {
      "name": "python"
    },
    "accelerator": "GPU",
    "gpuClass": "standard"
  },
  "cells": [
    {
      "cell_type": "code",
      "execution_count": null,
      "metadata": {
        "colab": {
          "base_uri": "https://localhost:8080/",
          "height": 122
        },
        "id": "o1DSOaAljBaJ",
        "outputId": "2066a438-1508-4b20-e09f-2edf2fcceae9"
      },
      "outputs": [
        {
          "output_type": "stream",
          "name": "stdout",
          "text": [
            "Looking in indexes: https://pypi.org/simple, https://us-python.pkg.dev/colab-wheels/public/simple/\n",
            "Requirement already satisfied: patool in /usr/local/lib/python3.10/dist-packages (1.12)\n",
            "patool: Extracting /content/Dataset (1).zip ...\n",
            "patool: running /usr/bin/7z x -o./Unpack_m2b_hqul -- \"/content/Dataset (1).zip\"\n",
            "patool: ... /content/Dataset (1).zip extracted to `Dataset (1)2' (local file exists).\n"
          ]
        },
        {
          "output_type": "execute_result",
          "data": {
            "text/plain": [
              "'Dataset (1)2'"
            ],
            "application/vnd.google.colaboratory.intrinsic+json": {
              "type": "string"
            }
          },
          "metadata": {},
          "execution_count": 118
        }
      ],
      "source": [
        "!pip install patool\n",
        "import patoolib\n",
        "patoolib.extract_archive('/content/Dataset (1).zip')"
      ]
    },
    {
      "cell_type": "code",
      "source": [
        "from tensorflow.keras.layers import Input, Lambda, Dense, Flatten,Conv2D\n",
        "from tensorflow.keras.models import Model\n",
        "from tensorflow.keras.applications.vgg19 import VGG19\n",
        "from tensorflow.keras.applications.resnet50 import preprocess_input\n",
        "from tensorflow.keras.preprocessing import image\n",
        "from tensorflow.keras.preprocessing.image import ImageDataGenerator,load_img\n",
        "from tensorflow.keras.models import Sequential\n",
        "import numpy as np\n",
        "from glob import glob\n",
        "import matplotlib.pyplot as plt"
      ],
      "metadata": {
        "id": "15T9VrdZj2RR"
      },
      "execution_count": null,
      "outputs": []
    },
    {
      "cell_type": "code",
      "source": [
        "# re-size all the images to this\n",
        "IMAGE_SIZE = [224, 224]\n",
        "\n",
        "train_path = '/content/Dataset/Train'\n",
        "valid_path = '/content/Dataset/Test'"
      ],
      "metadata": {
        "id": "jdyW36HwmUr_"
      },
      "execution_count": null,
      "outputs": []
    },
    {
      "cell_type": "code",
      "source": [
        "# Import the Vgg 16 library as shown below and add preprocessing layer to the front of VGG\n",
        "# Here we will be using imagenet weights\n",
        "mobilnet = VGG19(input_shape=IMAGE_SIZE + [3], weights='imagenet', include_top=False)\n"
      ],
      "metadata": {
        "id": "jLFjfNXcm5Sl"
      },
      "execution_count": null,
      "outputs": []
    },
    {
      "cell_type": "code",
      "source": [
        "# don't train existing weights\n",
        "for layer in mobilnet.layers:\n",
        "    layer.trainable = False\n"
      ],
      "metadata": {
        "id": "_9JinrFunALR"
      },
      "execution_count": null,
      "outputs": []
    },
    {
      "cell_type": "code",
      "source": [
        "# useful for getting number of output classes\n",
        "folders = glob('Dataset/Train/*')\n"
      ],
      "metadata": {
        "id": "jP25c_YLnr_1"
      },
      "execution_count": null,
      "outputs": []
    },
    {
      "cell_type": "code",
      "source": [
        "folders"
      ],
      "metadata": {
        "colab": {
          "base_uri": "https://localhost:8080/"
        },
        "id": "xWIJqc56n9p1",
        "outputId": "0f642672-370b-450e-debd-f98d8fa22cd4"
      },
      "execution_count": null,
      "outputs": [
        {
          "output_type": "execute_result",
          "data": {
            "text/plain": [
              "['Dataset/Train/Uninfected', 'Dataset/Train/Parasite']"
            ]
          },
          "metadata": {},
          "execution_count": 124
        }
      ]
    },
    {
      "cell_type": "code",
      "source": [
        "x = Flatten()(mobilnet.output)\n"
      ],
      "metadata": {
        "id": "juSZfk-VoAHL"
      },
      "execution_count": null,
      "outputs": []
    },
    {
      "cell_type": "code",
      "source": [
        "prediction = Dense(len(folders), activation='softmax')(x)\n",
        "\n",
        "# create a model object\n",
        "model = Model(inputs=mobilnet.input, outputs=prediction)"
      ],
      "metadata": {
        "id": "YhUch2GZoDJl"
      },
      "execution_count": null,
      "outputs": []
    },
    {
      "cell_type": "code",
      "source": [
        "# view the structure of the model\n",
        "model.summary()"
      ],
      "metadata": {
        "colab": {
          "base_uri": "https://localhost:8080/"
        },
        "id": "rribo_q8oF5P",
        "outputId": "91e624d6-9194-4caf-9a50-a88083ae80fa"
      },
      "execution_count": null,
      "outputs": [
        {
          "output_type": "stream",
          "name": "stdout",
          "text": [
            "Model: \"model_3\"\n",
            "_________________________________________________________________\n",
            " Layer (type)                Output Shape              Param #   \n",
            "=================================================================\n",
            " input_4 (InputLayer)        [(None, 224, 224, 3)]     0         \n",
            "                                                                 \n",
            " block1_conv1 (Conv2D)       (None, 224, 224, 64)      1792      \n",
            "                                                                 \n",
            " block1_conv2 (Conv2D)       (None, 224, 224, 64)      36928     \n",
            "                                                                 \n",
            " block1_pool (MaxPooling2D)  (None, 112, 112, 64)      0         \n",
            "                                                                 \n",
            " block2_conv1 (Conv2D)       (None, 112, 112, 128)     73856     \n",
            "                                                                 \n",
            " block2_conv2 (Conv2D)       (None, 112, 112, 128)     147584    \n",
            "                                                                 \n",
            " block2_pool (MaxPooling2D)  (None, 56, 56, 128)       0         \n",
            "                                                                 \n",
            " block3_conv1 (Conv2D)       (None, 56, 56, 256)       295168    \n",
            "                                                                 \n",
            " block3_conv2 (Conv2D)       (None, 56, 56, 256)       590080    \n",
            "                                                                 \n",
            " block3_conv3 (Conv2D)       (None, 56, 56, 256)       590080    \n",
            "                                                                 \n",
            " block3_conv4 (Conv2D)       (None, 56, 56, 256)       590080    \n",
            "                                                                 \n",
            " block3_pool (MaxPooling2D)  (None, 28, 28, 256)       0         \n",
            "                                                                 \n",
            " block4_conv1 (Conv2D)       (None, 28, 28, 512)       1180160   \n",
            "                                                                 \n",
            " block4_conv2 (Conv2D)       (None, 28, 28, 512)       2359808   \n",
            "                                                                 \n",
            " block4_conv3 (Conv2D)       (None, 28, 28, 512)       2359808   \n",
            "                                                                 \n",
            " block4_conv4 (Conv2D)       (None, 28, 28, 512)       2359808   \n",
            "                                                                 \n",
            " block4_pool (MaxPooling2D)  (None, 14, 14, 512)       0         \n",
            "                                                                 \n",
            " block5_conv1 (Conv2D)       (None, 14, 14, 512)       2359808   \n",
            "                                                                 \n",
            " block5_conv2 (Conv2D)       (None, 14, 14, 512)       2359808   \n",
            "                                                                 \n",
            " block5_conv3 (Conv2D)       (None, 14, 14, 512)       2359808   \n",
            "                                                                 \n",
            " block5_conv4 (Conv2D)       (None, 14, 14, 512)       2359808   \n",
            "                                                                 \n",
            " block5_pool (MaxPooling2D)  (None, 7, 7, 512)         0         \n",
            "                                                                 \n",
            " flatten_6 (Flatten)         (None, 25088)             0         \n",
            "                                                                 \n",
            " dense_9 (Dense)             (None, 2)                 50178     \n",
            "                                                                 \n",
            "=================================================================\n",
            "Total params: 20,074,562\n",
            "Trainable params: 50,178\n",
            "Non-trainable params: 20,024,384\n",
            "_________________________________________________________________\n"
          ]
        }
      ]
    },
    {
      "cell_type": "code",
      "source": [
        "from tensorflow.keras.layers import MaxPooling2D"
      ],
      "metadata": {
        "id": "xXLnHRrjoH9M"
      },
      "execution_count": null,
      "outputs": []
    },
    {
      "cell_type": "code",
      "source": [
        "### Create Model from scratch using CNN\n",
        "model=Sequential()\n",
        "model.add(Conv2D(filters=16,kernel_size=2,padding=\"same\",activation=\"relu\",input_shape=(224,224,3)))\n",
        "model.add(MaxPooling2D(pool_size=2))\n",
        "model.add(Conv2D(filters=32,kernel_size=2,padding=\"same\",activation =\"relu\"))\n",
        "model.add(MaxPooling2D(pool_size=2))\n",
        "model.add(Conv2D(filters=64,kernel_size=2,padding=\"same\",activation=\"relu\"))\n",
        "model.add(MaxPooling2D(pool_size=2))\n",
        "model.add(Flatten())\n",
        "model.add(Dense(500,activation=\"relu\"))\n",
        "model.add(Dense(2,activation=\"softmax\"))\n",
        "model.summary()"
      ],
      "metadata": {
        "colab": {
          "base_uri": "https://localhost:8080/"
        },
        "id": "jzUKaVDaoLD5",
        "outputId": "04ab66ca-1cb1-4e04-fee8-ace7254879da"
      },
      "execution_count": null,
      "outputs": [
        {
          "output_type": "stream",
          "name": "stdout",
          "text": [
            "Model: \"sequential_3\"\n",
            "_________________________________________________________________\n",
            " Layer (type)                Output Shape              Param #   \n",
            "=================================================================\n",
            " conv2d_9 (Conv2D)           (None, 224, 224, 16)      208       \n",
            "                                                                 \n",
            " max_pooling2d_9 (MaxPooling  (None, 112, 112, 16)     0         \n",
            " 2D)                                                             \n",
            "                                                                 \n",
            " conv2d_10 (Conv2D)          (None, 112, 112, 32)      2080      \n",
            "                                                                 \n",
            " max_pooling2d_10 (MaxPoolin  (None, 56, 56, 32)       0         \n",
            " g2D)                                                            \n",
            "                                                                 \n",
            " conv2d_11 (Conv2D)          (None, 56, 56, 64)        8256      \n",
            "                                                                 \n",
            " max_pooling2d_11 (MaxPoolin  (None, 28, 28, 64)       0         \n",
            " g2D)                                                            \n",
            "                                                                 \n",
            " flatten_7 (Flatten)         (None, 50176)             0         \n",
            "                                                                 \n",
            " dense_10 (Dense)            (None, 500)               25088500  \n",
            "                                                                 \n",
            " dense_11 (Dense)            (None, 2)                 1002      \n",
            "                                                                 \n",
            "=================================================================\n",
            "Total params: 25,100,046\n",
            "Trainable params: 25,100,046\n",
            "Non-trainable params: 0\n",
            "_________________________________________________________________\n"
          ]
        }
      ]
    },
    {
      "cell_type": "code",
      "source": [
        "# tell the model what cost and optimization method to use\n",
        "model.compile(\n",
        "  loss='categorical_crossentropy',\n",
        "  optimizer='adam',\n",
        "  metrics=['accuracy']\n",
        ")"
      ],
      "metadata": {
        "id": "vNvEEQXFoNca"
      },
      "execution_count": null,
      "outputs": []
    },
    {
      "cell_type": "code",
      "source": [
        "# Use the Image Data Generator to import the images from the dataset\n",
        "from tensorflow.keras.preprocessing.image import ImageDataGenerator\n",
        "\n",
        "train_datagen = ImageDataGenerator(rescale = 1./255,\n",
        "                                   shear_range = 0.2,\n",
        "                                   zoom_range = 0.2,\n",
        "                                   horizontal_flip = True)\n",
        "\n",
        "test_datagen = ImageDataGenerator(rescale = 1./255)"
      ],
      "metadata": {
        "id": "wVqq3vS3oQeg"
      },
      "execution_count": null,
      "outputs": []
    },
    {
      "cell_type": "code",
      "source": [
        "# Make sure you provide the same target size as initialied for the image size\n",
        "training_set = train_datagen.flow_from_directory('Dataset/Train',\n",
        "                                                 target_size = (224, 224),\n",
        "                                                 batch_size = 32,\n",
        "                                                 class_mode = 'categorical')"
      ],
      "metadata": {
        "colab": {
          "base_uri": "https://localhost:8080/"
        },
        "id": "_tAiXQHeoTBE",
        "outputId": "6fa05166-aacc-4c6d-f099-56e3fa9938b1"
      },
      "execution_count": null,
      "outputs": [
        {
          "output_type": "stream",
          "name": "stdout",
          "text": [
            "Found 416 images belonging to 2 classes.\n"
          ]
        }
      ]
    },
    {
      "cell_type": "code",
      "source": [
        "training_set\n"
      ],
      "metadata": {
        "colab": {
          "base_uri": "https://localhost:8080/"
        },
        "id": "b3cTnbRRoWTR",
        "outputId": "38f86c03-83a0-4d1b-b404-86ebfe39ec05"
      },
      "execution_count": null,
      "outputs": [
        {
          "output_type": "execute_result",
          "data": {
            "text/plain": [
              "<keras.preprocessing.image.DirectoryIterator at 0x7f73cb7b1900>"
            ]
          },
          "metadata": {},
          "execution_count": 133
        }
      ]
    },
    {
      "cell_type": "code",
      "source": [
        "test_set = test_datagen.flow_from_directory('Dataset/Test',\n",
        "                                            target_size = (224, 224),\n",
        "                                            batch_size = 32,\n",
        "                                            class_mode = 'categorical')"
      ],
      "metadata": {
        "colab": {
          "base_uri": "https://localhost:8080/"
        },
        "id": "QMsaFkIhoZ13",
        "outputId": "d6fbdab7-7328-4397-cc80-bdc12407ea69"
      },
      "execution_count": null,
      "outputs": [
        {
          "output_type": "stream",
          "name": "stdout",
          "text": [
            "Found 134 images belonging to 2 classes.\n"
          ]
        }
      ]
    },
    {
      "cell_type": "code",
      "source": [
        "# fit the model\n",
        "# Run the cell. It will take some time to execute\n",
        "r = model.fit_generator(\n",
        "  training_set,\n",
        "  validation_data=test_set,\n",
        "  epochs=20,\n",
        "  steps_per_epoch=len(training_set),\n",
        "  validation_steps=len(test_set)\n",
        ")"
      ],
      "metadata": {
        "colab": {
          "base_uri": "https://localhost:8080/"
        },
        "id": "ioV6WJBKocjE",
        "outputId": "1b592703-8447-40b3-d469-8dcee906914d"
      },
      "execution_count": null,
      "outputs": [
        {
          "output_type": "stream",
          "name": "stderr",
          "text": [
            "<ipython-input-135-2d02736eff38>:3: UserWarning: `Model.fit_generator` is deprecated and will be removed in a future version. Please use `Model.fit`, which supports generators.\n",
            "  r = model.fit_generator(\n"
          ]
        },
        {
          "output_type": "stream",
          "name": "stdout",
          "text": [
            "Epoch 1/20\n",
            "13/13 [==============================] - 7s 411ms/step - loss: 1.0426 - accuracy: 0.5553 - val_loss: 0.6789 - val_accuracy: 0.5597\n",
            "Epoch 2/20\n",
            "13/13 [==============================] - 5s 348ms/step - loss: 0.5624 - accuracy: 0.7139 - val_loss: 0.9390 - val_accuracy: 0.3507\n",
            "Epoch 3/20\n",
            "13/13 [==============================] - 5s 400ms/step - loss: 0.4607 - accuracy: 0.7596 - val_loss: 0.8703 - val_accuracy: 0.4030\n",
            "Epoch 4/20\n",
            "13/13 [==============================] - 4s 341ms/step - loss: 0.4214 - accuracy: 0.8005 - val_loss: 0.8851 - val_accuracy: 0.4403\n",
            "Epoch 5/20\n",
            "13/13 [==============================] - 5s 348ms/step - loss: 0.3696 - accuracy: 0.8317 - val_loss: 0.7668 - val_accuracy: 0.5224\n",
            "Epoch 6/20\n",
            "13/13 [==============================] - 5s 392ms/step - loss: 0.3377 - accuracy: 0.8438 - val_loss: 0.7485 - val_accuracy: 0.5970\n",
            "Epoch 7/20\n",
            "13/13 [==============================] - 4s 341ms/step - loss: 0.3016 - accuracy: 0.8726 - val_loss: 0.6797 - val_accuracy: 0.6418\n",
            "Epoch 8/20\n",
            "13/13 [==============================] - 5s 395ms/step - loss: 0.2777 - accuracy: 0.8894 - val_loss: 1.0469 - val_accuracy: 0.5299\n",
            "Epoch 9/20\n",
            "13/13 [==============================] - 4s 345ms/step - loss: 0.2970 - accuracy: 0.8726 - val_loss: 0.5682 - val_accuracy: 0.7239\n",
            "Epoch 10/20\n",
            "13/13 [==============================] - 5s 385ms/step - loss: 0.2516 - accuracy: 0.9014 - val_loss: 0.4542 - val_accuracy: 0.7612\n",
            "Epoch 11/20\n",
            "13/13 [==============================] - 5s 348ms/step - loss: 0.2087 - accuracy: 0.9207 - val_loss: 0.7707 - val_accuracy: 0.6418\n",
            "Epoch 12/20\n",
            "13/13 [==============================] - 5s 347ms/step - loss: 0.1932 - accuracy: 0.9543 - val_loss: 0.7543 - val_accuracy: 0.6866\n",
            "Epoch 13/20\n",
            "13/13 [==============================] - 5s 405ms/step - loss: 0.1651 - accuracy: 0.9327 - val_loss: 0.6109 - val_accuracy: 0.7239\n",
            "Epoch 14/20\n",
            "13/13 [==============================] - 5s 397ms/step - loss: 0.1496 - accuracy: 0.9351 - val_loss: 0.4536 - val_accuracy: 0.7985\n",
            "Epoch 15/20\n",
            "13/13 [==============================] - 5s 413ms/step - loss: 0.1731 - accuracy: 0.9351 - val_loss: 0.4280 - val_accuracy: 0.8060\n",
            "Epoch 16/20\n",
            "13/13 [==============================] - 5s 349ms/step - loss: 0.1489 - accuracy: 0.9615 - val_loss: 0.5967 - val_accuracy: 0.7612\n",
            "Epoch 17/20\n",
            "13/13 [==============================] - 5s 348ms/step - loss: 0.1104 - accuracy: 0.9639 - val_loss: 0.4276 - val_accuracy: 0.8134\n",
            "Epoch 18/20\n",
            "13/13 [==============================] - 5s 398ms/step - loss: 0.1080 - accuracy: 0.9663 - val_loss: 0.4186 - val_accuracy: 0.8358\n",
            "Epoch 19/20\n",
            "13/13 [==============================] - 4s 345ms/step - loss: 0.1674 - accuracy: 0.9375 - val_loss: 0.4228 - val_accuracy: 0.8134\n",
            "Epoch 20/20\n",
            "13/13 [==============================] - 5s 404ms/step - loss: 0.1315 - accuracy: 0.9495 - val_loss: 0.3443 - val_accuracy: 0.8507\n"
          ]
        }
      ]
    },
    {
      "cell_type": "code",
      "source": [
        "# plot the loss\n",
        "plt.plot(r.history['loss'], label='train loss')\n",
        "plt.plot(r.history['val_loss'], label='val loss')\n",
        "plt.legend()\n",
        "plt.show()\n",
        "plt.savefig('LossVal_loss')\n",
        "\n",
        "# plot the accuracy\n",
        "plt.plot(r.history['accuracy'], label='train acc')\n",
        "plt.plot(r.history['val_accuracy'], label='val acc')\n",
        "plt.legend()\n",
        "plt.show()\n",
        "plt.savefig('AccVal_acc')"
      ],
      "metadata": {
        "colab": {
          "base_uri": "https://localhost:8080/",
          "height": 860
        },
        "id": "0FoLUb5VofmE",
        "outputId": "91cf9aba-987c-46e9-e760-13a6d4206141"
      },
      "execution_count": null,
      "outputs": [
        {
          "output_type": "display_data",
          "data": {
            "text/plain": [
              "<Figure size 640x480 with 1 Axes>"
            ],
            "image/png": "[encoded data removed]"
          },
          "metadata": {}
        },
        {
          "output_type": "display_data",
          "data": {
            "text/plain": [
              "<Figure size 640x480 with 1 Axes>"
            ],
            "image/png": "[encoded data removed]"
          },
          "metadata": {}
        },
        {
          "output_type": "display_data",
          "data": {
            "text/plain": [
              "<Figure size 640x480 with 0 Axes>"
            ]
          },
          "metadata": {}
        }
      ]
    },
    {
      "cell_type": "code",
      "source": [
        "# save it as a h5 file\n",
        "\n",
        "\n",
        "from tensorflow.keras.models import load_model\n",
        "\n",
        "model.save('model_vgg19.h5')"
      ],
      "metadata": {
        "id": "qMpYXyDGpR4i"
      },
      "execution_count": null,
      "outputs": []
    },
    {
      "cell_type": "code",
      "source": [
        "y_pred = model.predict(test_set)"
      ],
      "metadata": {
        "colab": {
          "base_uri": "https://localhost:8080/"
        },
        "id": "y5qmo3rApd0Y",
        "outputId": "7e03abb1-e0eb-420b-e49c-a276a58ea18b"
      },
      "execution_count": null,
      "outputs": [
        {
          "output_type": "stream",
          "name": "stderr",
          "text": [
            "WARNING:tensorflow:5 out of the last 15 calls to <function Model.make_predict_function.<locals>.predict_function at 0x7f73cac493f0> triggered tf.function retracing. Tracing is expensive and the excessive number of tracings could be due to (1) creating @tf.function repeatedly in a loop, (2) passing tensors with different shapes, (3) passing Python objects instead of tensors. For (1), please define your @tf.function outside of the loop. For (2), @tf.function has reduce_retracing=True option that can avoid unnecessary retracing. For (3), please refer to https://www.tensorflow.org/guide/function#controlling_retracing and https://www.tensorflow.org/api_docs/python/tf/function for  more details.\n"
          ]
        },
        {
          "output_type": "stream",
          "name": "stdout",
          "text": [
            "5/5 [==============================] - 0s 48ms/step\n"
          ]
        }
      ]
    },
    {
      "cell_type": "code",
      "source": [
        "y_pred"
      ],
      "metadata": {
        "colab": {
          "base_uri": "https://localhost:8080/"
        },
        "id": "2p4_Tcg2pgD1",
        "outputId": "be0747a8-2a30-4adc-9764-903f479c9b98"
      },
      "execution_count": null,
      "outputs": [
        {
          "output_type": "execute_result",
          "data": {
            "text/plain": [
              "array([[9.99853611e-01, 1.46406586e-04],\n",
              "       [9.97784317e-01, 2.21567485e-03],\n",
              "       [6.88745916e-01, 3.11254054e-01],\n",
              "       [9.99981403e-01, 1.85410991e-05],\n",
              "       [7.02922046e-01, 2.97077924e-01],\n",
              "       [7.34133571e-02, 9.26586688e-01],\n",
              "       [9.83420908e-02, 9.01657939e-01],\n",
              "       [9.99937415e-01, 6.25479879e-05],\n",
              "       [9.65356708e-01, 3.46433260e-02],\n",
              "       [9.52519834e-01, 4.74801101e-02],\n",
              "       [9.85338807e-01, 1.46611389e-02],\n",
              "       [1.00000000e+00, 4.66510954e-08],\n",
              "       [6.23723678e-02, 9.37627673e-01],\n",
              "       [9.97021735e-01, 2.97825621e-03],\n",
              "       [1.10965200e-01, 8.89034808e-01],\n",
              "       [8.40285063e-01, 1.59714863e-01],\n",
              "       [9.92460787e-01, 7.53919454e-03],\n",
              "       [4.03627753e-02, 9.59637165e-01],\n",
              "       [2.13056266e-01, 7.86943734e-01],\n",
              "       [9.95293200e-01, 4.70682420e-03],\n",
              "       [7.67920390e-02, 9.23207939e-01],\n",
              "       [1.75511800e-02, 9.82448816e-01],\n",
              "       [9.95520949e-01, 4.47899196e-03],\n",
              "       [9.90041673e-01, 9.95836314e-03],\n",
              "       [2.79627681e-01, 7.20372319e-01],\n",
              "       [9.95583236e-01, 4.41681175e-03],\n",
              "       [8.19100887e-02, 9.18089926e-01],\n",
              "       [4.34920281e-01, 5.65079689e-01],\n",
              "       [2.53014825e-02, 9.74698484e-01],\n",
              "       [1.35873914e-01, 8.64126146e-01],\n",
              "       [9.01759148e-01, 9.82409194e-02],\n",
              "       [9.99881268e-01, 1.18769174e-04],\n",
              "       [9.99923110e-01, 7.69178005e-05],\n",
              "       [9.99999642e-01, 3.21439956e-07],\n",
              "       [4.03302126e-02, 9.59669769e-01],\n",
              "       [9.94992793e-01, 5.00725675e-03],\n",
              "       [7.96847045e-01, 2.03152955e-01],\n",
              "       [9.88994896e-01, 1.10051762e-02],\n",
              "       [9.94703472e-01, 5.29656373e-03],\n",
              "       [9.97181892e-01, 2.81816325e-03],\n",
              "       [5.48264198e-02, 9.45173562e-01],\n",
              "       [8.70630816e-02, 9.12936866e-01],\n",
              "       [1.79579780e-01, 8.20420206e-01],\n",
              "       [9.21454072e-01, 7.85459504e-02],\n",
              "       [9.99732673e-01, 2.67275784e-04],\n",
              "       [9.98614550e-01, 1.38548529e-03],\n",
              "       [4.21843857e-01, 5.78156173e-01],\n",
              "       [9.98202205e-01, 1.79773651e-03],\n",
              "       [5.33708185e-02, 9.46629107e-01],\n",
              "       [8.45104828e-02, 9.15489495e-01],\n",
              "       [9.93092775e-01, 6.90724235e-03],\n",
              "       [2.11415179e-02, 9.78858531e-01],\n",
              "       [2.19569683e-01, 7.80430317e-01],\n",
              "       [4.08397675e-01, 5.91602325e-01],\n",
              "       [1.01670116e-01, 8.98329854e-01],\n",
              "       [1.00000000e+00, 3.44909767e-09],\n",
              "       [9.97544110e-01, 2.45583081e-03],\n",
              "       [4.00187932e-02, 9.59981263e-01],\n",
              "       [9.98166263e-01, 1.83379289e-03],\n",
              "       [9.91794288e-01, 8.20567925e-03],\n",
              "       [9.99971032e-01, 2.90141306e-05],\n",
              "       [4.92235236e-02, 9.50776517e-01],\n",
              "       [3.09949294e-02, 9.69005048e-01],\n",
              "       [9.96112645e-01, 3.88743193e-03],\n",
              "       [6.72655940e-01, 3.27344090e-01],\n",
              "       [9.99999642e-01, 3.57552693e-07],\n",
              "       [4.90349159e-02, 9.50965106e-01],\n",
              "       [1.77447665e-02, 9.82255220e-01],\n",
              "       [2.38870550e-02, 9.76112902e-01],\n",
              "       [6.66749477e-02, 9.33325052e-01],\n",
              "       [9.98919249e-01, 1.08082371e-03],\n",
              "       [9.99703109e-01, 2.96919432e-04],\n",
              "       [1.86887458e-02, 9.81311262e-01],\n",
              "       [9.99409914e-01, 5.90099837e-04],\n",
              "       [9.77097213e-01, 2.29028352e-02],\n",
              "       [9.99999881e-01, 8.09421721e-08],\n",
              "       [3.44783477e-02, 9.65521693e-01],\n",
              "       [9.99755085e-01, 2.44972820e-04],\n",
              "       [5.31816147e-02, 9.46818352e-01],\n",
              "       [9.99995947e-01, 4.02392288e-06],\n",
              "       [9.99875426e-01, 1.24505925e-04],\n",
              "       [9.89128888e-01, 1.08711757e-02],\n",
              "       [9.82028246e-01, 1.79717112e-02],\n",
              "       [2.77833585e-02, 9.72216666e-01],\n",
              "       [2.52300464e-02, 9.74769950e-01],\n",
              "       [9.80438590e-02, 9.01956141e-01],\n",
              "       [5.45549393e-02, 9.45445061e-01],\n",
              "       [7.39261687e-01, 2.60738313e-01],\n",
              "       [5.09620085e-02, 9.49038029e-01],\n",
              "       [2.33136620e-02, 9.76686358e-01],\n",
              "       [4.00875770e-02, 9.59912360e-01],\n",
              "       [9.95584190e-01, 4.41578403e-03],\n",
              "       [2.33640254e-01, 7.66359806e-01],\n",
              "       [9.99998927e-01, 1.07354515e-06],\n",
              "       [9.88101125e-01, 1.18988659e-02],\n",
              "       [9.97356057e-01, 2.64392258e-03],\n",
              "       [9.99448836e-01, 5.51173696e-04],\n",
              "       [9.70043361e-01, 2.99566798e-02],\n",
              "       [2.98114449e-01, 7.01885521e-01],\n",
              "       [8.31262693e-02, 9.16873753e-01],\n",
              "       [9.83537376e-01, 1.64626073e-02],\n",
              "       [8.77867341e-01, 1.22132681e-01],\n",
              "       [3.90592128e-01, 6.09407902e-01],\n",
              "       [9.88497376e-01, 1.15026608e-02],\n",
              "       [9.76106882e-01, 2.38930658e-02],\n",
              "       [3.31431746e-01, 6.68568313e-01],\n",
              "       [7.42724612e-02, 9.25727546e-01],\n",
              "       [9.54154670e-01, 4.58453707e-02],\n",
              "       [9.02475603e-03, 9.90975201e-01],\n",
              "       [7.33882487e-02, 9.26611781e-01],\n",
              "       [9.98730958e-01, 1.26903807e-03],\n",
              "       [1.09216176e-01, 8.90783787e-01],\n",
              "       [9.73612249e-01, 2.63877511e-02],\n",
              "       [1.58560410e-01, 8.41439545e-01],\n",
              "       [8.19952190e-02, 9.18004751e-01],\n",
              "       [6.79370835e-02, 9.32062924e-01],\n",
              "       [3.08287591e-02, 9.69171226e-01],\n",
              "       [8.67013395e-01, 1.32986590e-01],\n",
              "       [9.32946727e-02, 9.06705320e-01],\n",
              "       [7.77094364e-01, 2.22905666e-01],\n",
              "       [9.76635367e-02, 9.02336478e-01],\n",
              "       [4.45621572e-02, 9.55437899e-01],\n",
              "       [4.15217914e-02, 9.58478212e-01],\n",
              "       [5.04774094e-01, 4.95225906e-01],\n",
              "       [9.87430930e-01, 1.25690019e-02],\n",
              "       [4.66376171e-02, 9.53362405e-01],\n",
              "       [1.32482946e-01, 8.67517054e-01],\n",
              "       [3.90869349e-01, 6.09130621e-01],\n",
              "       [2.90404093e-02, 9.70959544e-01],\n",
              "       [7.14136481e-01, 2.85863489e-01],\n",
              "       [9.97336686e-01, 2.66333972e-03],\n",
              "       [9.76247936e-02, 9.02375221e-01],\n",
              "       [9.99741614e-01, 2.58349552e-04],\n",
              "       [9.94035840e-01, 5.96412132e-03]], dtype=float32)"
            ]
          },
          "metadata": {},
          "execution_count": 139
        }
      ]
    },
    {
      "cell_type": "code",
      "source": [
        "import numpy as np\n",
        "y_pred = np.argmax(y_pred, axis=1)"
      ],
      "metadata": {
        "id": "yM9vGvP0pi_i"
      },
      "execution_count": null,
      "outputs": []
    },
    {
      "cell_type": "code",
      "source": [
        "from tensorflow.keras.models import load_model\n",
        "from tensorflow.keras.preprocessing import image"
      ],
      "metadata": {
        "id": "enFYazB2pmpQ"
      },
      "execution_count": null,
      "outputs": []
    },
    {
      "cell_type": "code",
      "source": [
        "model=load_model('model_vgg19.h5')"
      ],
      "metadata": {
        "id": "eh6dUygKppWg"
      },
      "execution_count": null,
      "outputs": []
    },
    {
      "cell_type": "code",
      "source": [
        "img=image.load_img('Dataset/Test/Uninfected/2.png',target_size=(224,224))\n"
      ],
      "metadata": {
        "id": "5SR0hZaIpsBM"
      },
      "execution_count": null,
      "outputs": []
    },
    {
      "cell_type": "code",
      "source": [
        "x=image.img_to_array(img)\n",
        "x"
      ],
      "metadata": {
        "colab": {
          "base_uri": "https://localhost:8080/"
        },
        "id": "yfCzrliCpvnD",
        "outputId": "c571667e-1bde-484a-f697-56b140fcdc48"
      },
      "execution_count": null,
      "outputs": [
        {
          "output_type": "execute_result",
          "data": {
            "text/plain": [
              "array([[[0., 0., 0.],\n",
              "        [0., 0., 0.],\n",
              "        [0., 0., 0.],\n",
              "        ...,\n",
              "        [0., 0., 0.],\n",
              "        [0., 0., 0.],\n",
              "        [0., 0., 0.]],\n",
              "\n",
              "       [[0., 0., 0.],\n",
              "        [0., 0., 0.],\n",
              "        [0., 0., 0.],\n",
              "        ...,\n",
              "        [0., 0., 0.],\n",
              "        [0., 0., 0.],\n",
              "        [0., 0., 0.]],\n",
              "\n",
              "       [[0., 0., 0.],\n",
              "        [0., 0., 0.],\n",
              "        [0., 0., 0.],\n",
              "        ...,\n",
              "        [0., 0., 0.],\n",
              "        [0., 0., 0.],\n",
              "        [0., 0., 0.]],\n",
              "\n",
              "       ...,\n",
              "\n",
              "       [[0., 0., 0.],\n",
              "        [0., 0., 0.],\n",
              "        [0., 0., 0.],\n",
              "        ...,\n",
              "        [0., 0., 0.],\n",
              "        [0., 0., 0.],\n",
              "        [0., 0., 0.]],\n",
              "\n",
              "       [[0., 0., 0.],\n",
              "        [0., 0., 0.],\n",
              "        [0., 0., 0.],\n",
              "        ...,\n",
              "        [0., 0., 0.],\n",
              "        [0., 0., 0.],\n",
              "        [0., 0., 0.]],\n",
              "\n",
              "       [[0., 0., 0.],\n",
              "        [0., 0., 0.],\n",
              "        [0., 0., 0.],\n",
              "        ...,\n",
              "        [0., 0., 0.],\n",
              "        [0., 0., 0.],\n",
              "        [0., 0., 0.]]], dtype=float32)"
            ]
          },
          "metadata": {},
          "execution_count": 144
        }
      ]
    },
    {
      "cell_type": "code",
      "source": [
        "\n",
        "x.shape"
      ],
      "metadata": {
        "colab": {
          "base_uri": "https://localhost:8080/"
        },
        "id": "c78pOwJ0py2n",
        "outputId": "62d39739-758a-4127-a215-056f6e33878d"
      },
      "execution_count": null,
      "outputs": [
        {
          "output_type": "execute_result",
          "data": {
            "text/plain": [
              "(224, 224, 3)"
            ]
          },
          "metadata": {},
          "execution_count": 145
        }
      ]
    },
    {
      "cell_type": "code",
      "source": [
        "x=x/255"
      ],
      "metadata": {
        "id": "AW4nnmDjp1lb"
      },
      "execution_count": null,
      "outputs": []
    },
    {
      "cell_type": "code",
      "source": [
        "x=np.expand_dims(x,axis=0)\n",
        "img_data=preprocess_input(x)\n",
        "img_data.shape"
      ],
      "metadata": {
        "colab": {
          "base_uri": "https://localhost:8080/"
        },
        "id": "aAHVzo0ip4CB",
        "outputId": "f1245fa9-8d0d-4932-8d6c-d5503f2361cc"
      },
      "execution_count": null,
      "outputs": [
        {
          "output_type": "execute_result",
          "data": {
            "text/plain": [
              "(1, 224, 224, 3)"
            ]
          },
          "metadata": {},
          "execution_count": 147
        }
      ]
    },
    {
      "cell_type": "code",
      "source": [
        "model.predict(img_data)"
      ],
      "metadata": {
        "colab": {
          "base_uri": "https://localhost:8080/"
        },
        "id": "kTE6CR5tp6YF",
        "outputId": "deb9fdc9-002c-483d-e76e-6616292d619a"
      },
      "execution_count": null,
      "outputs": [
        {
          "output_type": "stream",
          "name": "stdout",
          "text": [
            "1/1 [==============================] - 0s 71ms/step\n"
          ]
        },
        {
          "output_type": "execute_result",
          "data": {
            "text/plain": [
              "array([[1., 0.]], dtype=float32)"
            ]
          },
          "metadata": {},
          "execution_count": 148
        }
      ]
    },
    {
      "cell_type": "code",
      "source": [
        "a=np.argmax(model.predict(img_data), axis=1)"
      ],
      "metadata": {
        "colab": {
          "base_uri": "https://localhost:8080/"
        },
        "id": "Evm2KOOWp8Xo",
        "outputId": "db96c335-a540-4a38-b6de-d518887aeeb3"
      },
      "execution_count": null,
      "outputs": [
        {
          "output_type": "stream",
          "name": "stdout",
          "text": [
            "1/1 [==============================] - 0s 20ms/step\n"
          ]
        }
      ]
    },
    {
      "cell_type": "code",
      "source": [
        "if(a==1):\n",
        "    print(\"Uninfected\")\n",
        "else:\n",
        "    print(\"Infected\")"
      ],
      "metadata": {
        "colab": {
          "base_uri": "https://localhost:8080/"
        },
        "id": "pW6JmeXop-XU",
        "outputId": "30a3baeb-ab8a-4ae3-8e1b-5cfc5d3c3f56"
      },
      "execution_count": null,
      "outputs": [
        {
          "output_type": "stream",
          "name": "stdout",
          "text": [
            "Infected\n"
          ]
        }
      ]
    },
    {
      "cell_type": "code",
      "source": [],
      "metadata": {
        "id": "YxmwQQNXFy9h"
      },
      "execution_count": null,
      "outputs": []
    },
    {
      "cell_type": "code",
      "source": [],
      "metadata": {
        "id": "irmQelW2GZVD"
      },
      "execution_count": null,
      "outputs": []
    },
    {
      "cell_type": "code",
      "source": [],
      "metadata": {
        "id": "lyL_ol4DLzYA"
      },
      "execution_count": null,
      "outputs": []
    },
    {
      "cell_type": "code",
      "source": [],
      "metadata": {
        "id": "uE0d2Tc9QBRb"
      },
      "execution_count": null,
      "outputs": []
    },
    {
      "cell_type": "code",
      "source": [],
      "metadata": {
        "id": "xBN5irydQDzf"
      },
      "execution_count": null,
      "outputs": []
    }
  ]
}